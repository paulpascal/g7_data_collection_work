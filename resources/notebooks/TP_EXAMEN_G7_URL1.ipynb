{
 "cells": [
  {
   "cell_type": "code",
   "execution_count": 12,
   "metadata": {
    "id": "DOW1GZKyRdkt"
   },
   "outputs": [],
   "source": [
    "# importer les packages\n",
    "import pandas as pd\n",
    "from requests import get\n",
    "from bs4 import BeautifulSoup as bs"
   ]
  },
  {
   "cell_type": "code",
   "execution_count": 3,
   "metadata": {
    "id": "nZPLUVep_bpC"
   },
   "outputs": [],
   "source": [
    "\n",
    "\n",
    "url ='https://www.expat-dakar.com/refrigerateurs-congelateurs'\n",
    "resp = get(url)\n",
    "bsoup = bs(resp.text, 'html.parser')\n",
    "containers = bsoup.find_all('div', class_ ='listings-cards__list-item')"
   ]
  },
  {
   "cell_type": "code",
   "execution_count": 4,
   "metadata": {
    "colab": {
     "base_uri": "https://localhost:8080/"
    },
    "id": "W-kkQDcCKkQB",
    "outputId": "ee5f5cda-e731-4739-f15b-43c1c860b55c"
   },
   "outputs": [
    {
     "data": {
      "text/plain": [
       "(0, <Response [403]>)"
      ]
     },
     "execution_count": 4,
     "metadata": {},
     "output_type": "execute_result"
    }
   ],
   "source": [
    "len(containers), resp"
   ]
  },
  {
   "cell_type": "code",
   "execution_count": 8,
   "metadata": {
    "id": "6MxprO0bXEue"
   },
   "outputs": [
    {
     "ename": "IndexError",
     "evalue": "list index out of range",
     "output_type": "error",
     "traceback": [
      "\u001b[0;31m---------------------------------------------------------------------------\u001b[0m",
      "\u001b[0;31mIndexError\u001b[0m                                Traceback (most recent call last)",
      "Cell \u001b[0;32mIn[8], line 1\u001b[0m\n\u001b[0;32m----> 1\u001b[0m container \u001b[38;5;241m=\u001b[39m \u001b[43mcontainers\u001b[49m\u001b[43m[\u001b[49m\u001b[38;5;241;43m0\u001b[39;49m\u001b[43m]\u001b[49m\n\u001b[1;32m      2\u001b[0m link \u001b[38;5;241m=\u001b[39m container\u001b[38;5;241m.\u001b[39mfind(\u001b[38;5;124m'\u001b[39m\u001b[38;5;124ma\u001b[39m\u001b[38;5;124m'\u001b[39m, class_ \u001b[38;5;241m=\u001b[39m\u001b[38;5;124m'\u001b[39m\u001b[38;5;124mlisting-card__inner\u001b[39m\u001b[38;5;124m'\u001b[39m)[\u001b[38;5;124m'\u001b[39m\u001b[38;5;124mhref\u001b[39m\u001b[38;5;124m'\u001b[39m]\n\u001b[1;32m      3\u001b[0m res_c \u001b[38;5;241m=\u001b[39m get(link)\n",
      "\u001b[0;31mIndexError\u001b[0m: list index out of range"
     ]
    }
   ],
   "source": [
    "container = containers[0]\n",
    "link = container.find('a', class_ ='listing-card__inner')['href']\n",
    "res_c = get(link)\n",
    "bsoup_c = bs(res_c.text, 'html.parser')"
   ]
  },
  {
   "cell_type": "code",
   "execution_count": null,
   "metadata": {
    "colab": {
     "base_uri": "https://localhost:8080/"
    },
    "id": "GS4oFnAJ-IjL",
    "outputId": "812c7cb2-a1df-41d6-cca6-87d56e4c4e41"
   },
   "outputs": [],
   "source": [
    "detailsPageContainer = bsoup_c.find('div', class_ ='listing-item__info')\n",
    "etat = detailsPageContainer.find('dd', class_='listing-item__properties__description').text.strip()\n",
    "prix = detailsPageContainer.find('span', class_ ='listing-card__price__value 1').text.strip().replace('\\u202f','').replace(' F Cfa', '')\n",
    "adress_location = detailsPageContainer.find('span', class_='listing-item__address-location').text.strip()\n",
    "region_location = detailsPageContainer.find('span', class_='listing-item__address-region').text.strip()\n",
    "adresse = adress_location+' '+region_location\n",
    "details = detailsPageContainer.find('h1', class_='listing-item__header').text.strip();\n",
    "images = bsoup_c.find('div', class_='gallery__image__inner')\n",
    "imageLink=images.find('img')['src']\n",
    "dico = {\n",
    "    'details': details,\n",
    "    'etat':etat,\n",
    "    'adresse': adresse,\n",
    "    'prix': prix,\n",
    "    'image_lien':imageLink,\n",
    "}\n",
    "dico"
   ]
  },
  {
   "cell_type": "code",
   "execution_count": null,
   "metadata": {
    "id": "6lGO-AqUFhPX"
   },
   "outputs": [],
   "source": [
    "#Scraper les données de la page\n",
    "data = []\n",
    "for container in containers:\n",
    "  link = container.find('a', class_ ='listing-card__inner')['href']\n",
    "  res_c = get(link)\n",
    "  bsoup_c = bs(res_c.text, 'html.parser')\n",
    "  try:\n",
    "    detailsPageContainer = bsoup_c.find('div', class_ ='listing-item__info')\n",
    "    etat = detailsPageContainer.find('dd', class_='listing-item__properties__description').text.strip()\n",
    "    prix = detailsPageContainer.find('span', class_ ='listing-card__price__value 1').text.strip().replace('\\u202f','').replace(' F Cfa', '')\n",
    "    adress_location = detailsPageContainer.find('span', class_='listing-item__address-location').text.strip()\n",
    "    region_location = detailsPageContainer.find('span', class_='listing-item__address-region').text.strip()\n",
    "    adresse = adress_location+' '+region_location\n",
    "    details = detailsPageContainer.find('h1', class_='listing-item__header').text.strip();\n",
    "    images = bsoup_c.find('div', class_='gallery__image__inner')\n",
    "    imageLink=images.find('img')['src']\n",
    "    dico = {\n",
    "        'details': details,\n",
    "        'etat':etat,\n",
    "        'adresse': adresse,\n",
    "        'prix': prix,\n",
    "        'image_lien':imageLink,\n",
    "    }\n",
    "    data.append(dico)\n",
    "  except :\n",
    "    pass\n",
    "\n",
    "DF = pd.DataFrame(data)"
   ]
  },
  {
   "cell_type": "code",
   "execution_count": null,
   "metadata": {
    "id": "ofEtIw5-Ipb-"
   },
   "outputs": [],
   "source": [
    "# afficher DF\n",
    "DF.head()"
   ]
  },
  {
   "cell_type": "code",
   "execution_count": null,
   "metadata": {
    "id": "ME_x8XjaIvTQ"
   },
   "outputs": [],
   "source": [
    "# scraper sur plusieurs pages\n",
    "df = pd.DataFrame()\n",
    "for p in range(1,6):\n",
    "  url =f'https://www.expat-dakar.com/refrigerateurs-congelateurs?page={p}'\n",
    "  resp = get(url)\n",
    "  bsoup = bs(resp.text, 'html.parser')\n",
    "  containers = bsoup.find_all('div', class_ ='listings-cards__list-item')\n",
    "  data = []\n",
    "  for container in containers:\n",
    "    link = container.find('a', class_ ='listing-card__inner')['href']\n",
    "    res_c = get(link)\n",
    "    bsoup_c = bs(res_c.text, 'html.parser')\n",
    "    try:\n",
    "      detailsPageContainer = bsoup_c.find('div', class_ ='listing-item__info')\n",
    "      etat = detailsPageContainer.find('dd', class_='listing-item__properties__description').text.strip()\n",
    "      prix = detailsPageContainer.find('span', class_ ='listing-card__price__value 1').text.strip().replace('\\u202f','').replace(' F Cfa', '')\n",
    "      adress_location = detailsPageContainer.find('span', class_='listing-item__address-location').text.strip()\n",
    "      region_location = detailsPageContainer.find('span', class_='listing-item__address-region').text.strip()\n",
    "      adresse = adress_location+' '+region_location\n",
    "      details = detailsPageContainer.find('h1', class_='listing-item__header').text.strip();\n",
    "      images = bsoup_c.find('div', class_='gallery__image__inner')\n",
    "      imageLink=images.find('img')['src']\n",
    "      dico = {\n",
    "        'details': details,\n",
    "        'etat':etat,\n",
    "        'adresse': adresse,\n",
    "        'prix': prix,\n",
    "        'image_lien':imageLink,\n",
    "      }\n",
    "      data.append(dico)\n",
    "    except :\n",
    "     pass\n",
    "\n",
    "  DF = pd.DataFrame(data)\n",
    "  df = pd.concat([df, DF],axis = 0).reset_index(drop = True)"
   ]
  },
  {
   "cell_type": "markdown",
   "metadata": {
    "id": "-aIgk-YV6atA"
   },
   "source": []
  },
  {
   "cell_type": "markdown",
   "metadata": {
    "id": "kXukn8G9I_Rh"
   },
   "source": []
  },
  {
   "cell_type": "code",
   "execution_count": null,
   "metadata": {},
   "outputs": [],
   "source": [
    "# Afficher df\n",
    "df.head(10)"
   ]
  }
 ],
 "metadata": {
  "colab": {
   "provenance": []
  },
  "kernelspec": {
   "display_name": "Python 3",
   "name": "python3"
  },
  "language_info": {
   "codemirror_mode": {
    "name": "ipython",
    "version": 3
   },
   "file_extension": ".py",
   "mimetype": "text/x-python",
   "name": "python",
   "nbconvert_exporter": "python",
   "pygments_lexer": "ipython3",
   "version": "3.11.6"
  }
 },
 "nbformat": 4,
 "nbformat_minor": 0
}
