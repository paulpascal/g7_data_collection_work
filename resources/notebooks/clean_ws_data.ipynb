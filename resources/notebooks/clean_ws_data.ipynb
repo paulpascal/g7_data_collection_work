{
 "cells": [
  {
   "cell_type": "code",
   "execution_count": 3,
   "metadata": {},
   "outputs": [],
   "source": [
    "import pandas as pd\n"
   ]
  },
  {
   "cell_type": "code",
   "execution_count": 175,
   "metadata": {},
   "outputs": [],
   "source": [
    "# pass file one by one\n",
    "source = 'air_conditioners'\n",
    "df = pd.read_csv(f'../../data/raw/{source}.csv')"
   ]
  },
  {
   "cell_type": "code",
   "execution_count": 176,
   "metadata": {},
   "outputs": [
    {
     "data": {
      "text/plain": [
       "(198, 9)"
      ]
     },
     "execution_count": 176,
     "metadata": {},
     "output_type": "execute_result"
    }
   ],
   "source": [
    "df.shape"
   ]
  },
  {
   "cell_type": "code",
   "execution_count": 177,
   "metadata": {},
   "outputs": [
    {
     "name": "stdout",
     "output_type": "stream",
     "text": [
      "<class 'pandas.core.frame.DataFrame'>\n",
      "RangeIndex: 198 entries, 0 to 197\n",
      "Data columns (total 9 columns):\n",
      " #   Column                 Non-Null Count  Dtype \n",
      "---  ------                 --------------  ----- \n",
      " 0   web-scraper-order      198 non-null    object\n",
      " 1   web-scraper-start-url  198 non-null    object\n",
      " 2   article_link           198 non-null    object\n",
      " 3   article_link-href      198 non-null    object\n",
      " 4   details                198 non-null    object\n",
      " 5   etat                   197 non-null    object\n",
      " 6   adresse                198 non-null    object\n",
      " 7   prix                   187 non-null    object\n",
      " 8   image_lien-src         198 non-null    object\n",
      "dtypes: object(9)\n",
      "memory usage: 14.1+ KB\n"
     ]
    }
   ],
   "source": [
    "df.info()"
   ]
  },
  {
   "cell_type": "code",
   "execution_count": 178,
   "metadata": {},
   "outputs": [
    {
     "data": {
      "text/html": [
       "<div>\n",
       "<style scoped>\n",
       "    .dataframe tbody tr th:only-of-type {\n",
       "        vertical-align: middle;\n",
       "    }\n",
       "\n",
       "    .dataframe tbody tr th {\n",
       "        vertical-align: top;\n",
       "    }\n",
       "\n",
       "    .dataframe thead th {\n",
       "        text-align: right;\n",
       "    }\n",
       "</style>\n",
       "<table border=\"1\" class=\"dataframe\">\n",
       "  <thead>\n",
       "    <tr style=\"text-align: right;\">\n",
       "      <th></th>\n",
       "      <th>web-scraper-order</th>\n",
       "      <th>web-scraper-start-url</th>\n",
       "      <th>article_link</th>\n",
       "      <th>article_link-href</th>\n",
       "      <th>details</th>\n",
       "      <th>etat</th>\n",
       "      <th>adresse</th>\n",
       "      <th>prix</th>\n",
       "      <th>image_lien-src</th>\n",
       "    </tr>\n",
       "  </thead>\n",
       "  <tbody>\n",
       "    <tr>\n",
       "      <th>0</th>\n",
       "      <td>1717211664-1</td>\n",
       "      <td>https://www.expat-dakar.com/climatisation?page=20</td>\n",
       "      <td>SPLIT ELACTRON 2.5CV INVERTER 18000BTU\\nNeuf\\n...</td>\n",
       "      <td>https://www.expat-dakar.com/annonce/split-elac...</td>\n",
       "      <td>SPLIT ELACTRON 2.5CV INVERTER 18000BTU</td>\n",
       "      <td>Neuf</td>\n",
       "      <td>Plateau\\n\\nDakar</td>\n",
       "      <td>269 000 F Cfa</td>\n",
       "      <td>https://i.roamcdn.net/hz/ed/listing-thumb-543w...</td>\n",
       "    </tr>\n",
       "    <tr>\n",
       "      <th>1</th>\n",
       "      <td>1717211666-2</td>\n",
       "      <td>https://www.expat-dakar.com/climatisation?page=20</td>\n",
       "      <td>SPLIT ELACTRON 2.5CV 18000BTU R1410\\nNeuf\\nPla...</td>\n",
       "      <td>https://www.expat-dakar.com/annonce/split-elac...</td>\n",
       "      <td>SPLIT ELACTRON 2.5CV 18000BTU R1410</td>\n",
       "      <td>Neuf</td>\n",
       "      <td>Plateau\\n\\nDakar</td>\n",
       "      <td>229 000 F Cfa</td>\n",
       "      <td>https://i.roamcdn.net/hz/ed/listing-thumb-543w...</td>\n",
       "    </tr>\n",
       "    <tr>\n",
       "      <th>2</th>\n",
       "      <td>1717211669-3</td>\n",
       "      <td>https://www.expat-dakar.com/climatisation?page=20</td>\n",
       "      <td>SPLIT ELACTRON 1.25CV INVERTER 9000BTU\\nNeuf\\n...</td>\n",
       "      <td>https://www.expat-dakar.com/annonce/split-elac...</td>\n",
       "      <td>SPLIT ELACTRON 1.25CV INVERTER 9000BTU</td>\n",
       "      <td>Neuf</td>\n",
       "      <td>Plateau\\n\\nDakar</td>\n",
       "      <td>179 000 F Cfa</td>\n",
       "      <td>https://i.roamcdn.net/hz/ed/listing-thumb-543w...</td>\n",
       "    </tr>\n",
       "    <tr>\n",
       "      <th>3</th>\n",
       "      <td>1717211671-4</td>\n",
       "      <td>https://www.expat-dakar.com/climatisation?page=20</td>\n",
       "      <td>SPLIT ELACTRON 1.25CV 9000BTU R410\\nNeuf\\nPlat...</td>\n",
       "      <td>https://www.expat-dakar.com/annonce/split-elac...</td>\n",
       "      <td>SPLIT ELACTRON 1.25CV 9000BTU R410</td>\n",
       "      <td>Neuf</td>\n",
       "      <td>Plateau\\n\\nDakar</td>\n",
       "      <td>149 000 F Cfa</td>\n",
       "      <td>https://i.roamcdn.net/hz/ed/listing-thumb-543w...</td>\n",
       "    </tr>\n",
       "    <tr>\n",
       "      <th>4</th>\n",
       "      <td>1717211674-5</td>\n",
       "      <td>https://www.expat-dakar.com/climatisation?page=20</td>\n",
       "      <td>Climatiseur armoire 24000btu ROCH\\nNeuf\\nPlate...</td>\n",
       "      <td>https://www.expat-dakar.com/annonce/climatiseu...</td>\n",
       "      <td>Climatiseur armoire 24000btu ROCH</td>\n",
       "      <td>Neuf</td>\n",
       "      <td>Plateau\\n\\nDakar</td>\n",
       "      <td>545 000 F Cfa</td>\n",
       "      <td>https://i.roamcdn.net/hz/ed/listing-thumb-543w...</td>\n",
       "    </tr>\n",
       "  </tbody>\n",
       "</table>\n",
       "</div>"
      ],
      "text/plain": [
       "  web-scraper-order                              web-scraper-start-url  \\\n",
       "0      1717211664-1  https://www.expat-dakar.com/climatisation?page=20   \n",
       "1      1717211666-2  https://www.expat-dakar.com/climatisation?page=20   \n",
       "2      1717211669-3  https://www.expat-dakar.com/climatisation?page=20   \n",
       "3      1717211671-4  https://www.expat-dakar.com/climatisation?page=20   \n",
       "4      1717211674-5  https://www.expat-dakar.com/climatisation?page=20   \n",
       "\n",
       "                                        article_link  \\\n",
       "0  SPLIT ELACTRON 2.5CV INVERTER 18000BTU\\nNeuf\\n...   \n",
       "1  SPLIT ELACTRON 2.5CV 18000BTU R1410\\nNeuf\\nPla...   \n",
       "2  SPLIT ELACTRON 1.25CV INVERTER 9000BTU\\nNeuf\\n...   \n",
       "3  SPLIT ELACTRON 1.25CV 9000BTU R410\\nNeuf\\nPlat...   \n",
       "4  Climatiseur armoire 24000btu ROCH\\nNeuf\\nPlate...   \n",
       "\n",
       "                                   article_link-href  \\\n",
       "0  https://www.expat-dakar.com/annonce/split-elac...   \n",
       "1  https://www.expat-dakar.com/annonce/split-elac...   \n",
       "2  https://www.expat-dakar.com/annonce/split-elac...   \n",
       "3  https://www.expat-dakar.com/annonce/split-elac...   \n",
       "4  https://www.expat-dakar.com/annonce/climatiseu...   \n",
       "\n",
       "                                  details  etat           adresse  \\\n",
       "0  SPLIT ELACTRON 2.5CV INVERTER 18000BTU  Neuf  Plateau\\n\\nDakar   \n",
       "1     SPLIT ELACTRON 2.5CV 18000BTU R1410  Neuf  Plateau\\n\\nDakar   \n",
       "2  SPLIT ELACTRON 1.25CV INVERTER 9000BTU  Neuf  Plateau\\n\\nDakar   \n",
       "3      SPLIT ELACTRON 1.25CV 9000BTU R410  Neuf  Plateau\\n\\nDakar   \n",
       "4       Climatiseur armoire 24000btu ROCH  Neuf  Plateau\\n\\nDakar   \n",
       "\n",
       "            prix                                     image_lien-src  \n",
       "0  269 000 F Cfa  https://i.roamcdn.net/hz/ed/listing-thumb-543w...  \n",
       "1  229 000 F Cfa  https://i.roamcdn.net/hz/ed/listing-thumb-543w...  \n",
       "2  179 000 F Cfa  https://i.roamcdn.net/hz/ed/listing-thumb-543w...  \n",
       "3  149 000 F Cfa  https://i.roamcdn.net/hz/ed/listing-thumb-543w...  \n",
       "4  545 000 F Cfa  https://i.roamcdn.net/hz/ed/listing-thumb-543w...  "
      ]
     },
     "execution_count": 178,
     "metadata": {},
     "output_type": "execute_result"
    }
   ],
   "source": [
    "df.head()"
   ]
  },
  {
   "cell_type": "code",
   "execution_count": 179,
   "metadata": {},
   "outputs": [],
   "source": [
    "# Droping some usless columns\n",
    "df.drop(columns=['web-scraper-order', 'web-scraper-start-url', 'article_link', 'article_link-href'], inplace=True)\n",
    "df.rename(columns={'image_lien-src': 'image_lien'}, inplace=True)\n"
   ]
  },
  {
   "cell_type": "code",
   "execution_count": 180,
   "metadata": {},
   "outputs": [
    {
     "data": {
      "text/html": [
       "<div>\n",
       "<style scoped>\n",
       "    .dataframe tbody tr th:only-of-type {\n",
       "        vertical-align: middle;\n",
       "    }\n",
       "\n",
       "    .dataframe tbody tr th {\n",
       "        vertical-align: top;\n",
       "    }\n",
       "\n",
       "    .dataframe thead th {\n",
       "        text-align: right;\n",
       "    }\n",
       "</style>\n",
       "<table border=\"1\" class=\"dataframe\">\n",
       "  <thead>\n",
       "    <tr style=\"text-align: right;\">\n",
       "      <th></th>\n",
       "      <th>details</th>\n",
       "      <th>etat</th>\n",
       "      <th>adresse</th>\n",
       "      <th>prix</th>\n",
       "      <th>image_lien</th>\n",
       "    </tr>\n",
       "  </thead>\n",
       "  <tbody>\n",
       "    <tr>\n",
       "      <th>0</th>\n",
       "      <td>SPLIT ELACTRON 2.5CV INVERTER 18000BTU</td>\n",
       "      <td>Neuf</td>\n",
       "      <td>Plateau\\n\\nDakar</td>\n",
       "      <td>269 000 F Cfa</td>\n",
       "      <td>https://i.roamcdn.net/hz/ed/listing-thumb-543w...</td>\n",
       "    </tr>\n",
       "    <tr>\n",
       "      <th>1</th>\n",
       "      <td>SPLIT ELACTRON 2.5CV 18000BTU R1410</td>\n",
       "      <td>Neuf</td>\n",
       "      <td>Plateau\\n\\nDakar</td>\n",
       "      <td>229 000 F Cfa</td>\n",
       "      <td>https://i.roamcdn.net/hz/ed/listing-thumb-543w...</td>\n",
       "    </tr>\n",
       "    <tr>\n",
       "      <th>2</th>\n",
       "      <td>SPLIT ELACTRON 1.25CV INVERTER 9000BTU</td>\n",
       "      <td>Neuf</td>\n",
       "      <td>Plateau\\n\\nDakar</td>\n",
       "      <td>179 000 F Cfa</td>\n",
       "      <td>https://i.roamcdn.net/hz/ed/listing-thumb-543w...</td>\n",
       "    </tr>\n",
       "    <tr>\n",
       "      <th>3</th>\n",
       "      <td>SPLIT ELACTRON 1.25CV 9000BTU R410</td>\n",
       "      <td>Neuf</td>\n",
       "      <td>Plateau\\n\\nDakar</td>\n",
       "      <td>149 000 F Cfa</td>\n",
       "      <td>https://i.roamcdn.net/hz/ed/listing-thumb-543w...</td>\n",
       "    </tr>\n",
       "    <tr>\n",
       "      <th>4</th>\n",
       "      <td>Climatiseur armoire 24000btu ROCH</td>\n",
       "      <td>Neuf</td>\n",
       "      <td>Plateau\\n\\nDakar</td>\n",
       "      <td>545 000 F Cfa</td>\n",
       "      <td>https://i.roamcdn.net/hz/ed/listing-thumb-543w...</td>\n",
       "    </tr>\n",
       "  </tbody>\n",
       "</table>\n",
       "</div>"
      ],
      "text/plain": [
       "                                  details  etat           adresse  \\\n",
       "0  SPLIT ELACTRON 2.5CV INVERTER 18000BTU  Neuf  Plateau\\n\\nDakar   \n",
       "1     SPLIT ELACTRON 2.5CV 18000BTU R1410  Neuf  Plateau\\n\\nDakar   \n",
       "2  SPLIT ELACTRON 1.25CV INVERTER 9000BTU  Neuf  Plateau\\n\\nDakar   \n",
       "3      SPLIT ELACTRON 1.25CV 9000BTU R410  Neuf  Plateau\\n\\nDakar   \n",
       "4       Climatiseur armoire 24000btu ROCH  Neuf  Plateau\\n\\nDakar   \n",
       "\n",
       "            prix                                         image_lien  \n",
       "0  269 000 F Cfa  https://i.roamcdn.net/hz/ed/listing-thumb-543w...  \n",
       "1  229 000 F Cfa  https://i.roamcdn.net/hz/ed/listing-thumb-543w...  \n",
       "2  179 000 F Cfa  https://i.roamcdn.net/hz/ed/listing-thumb-543w...  \n",
       "3  149 000 F Cfa  https://i.roamcdn.net/hz/ed/listing-thumb-543w...  \n",
       "4  545 000 F Cfa  https://i.roamcdn.net/hz/ed/listing-thumb-543w...  "
      ]
     },
     "execution_count": 180,
     "metadata": {},
     "output_type": "execute_result"
    }
   ],
   "source": [
    "df.head()"
   ]
  },
  {
   "cell_type": "code",
   "execution_count": 181,
   "metadata": {},
   "outputs": [
    {
     "data": {
      "text/plain": [
       "(198, 5)"
      ]
     },
     "execution_count": 181,
     "metadata": {},
     "output_type": "execute_result"
    }
   ],
   "source": [
    "df.shape"
   ]
  },
  {
   "cell_type": "code",
   "execution_count": 182,
   "metadata": {},
   "outputs": [],
   "source": [
    "# Clean 'adresse' column\n",
    "df['adresse'] = df['adresse'].str.replace(r'\\n+', ' ', regex=True).str.strip()\n",
    "df['prix'] = df['prix'].str.replace('\\u202f','').str.replace('F Cfa', '').str.strip()"
   ]
  },
  {
   "cell_type": "code",
   "execution_count": 183,
   "metadata": {},
   "outputs": [
    {
     "data": {
      "text/html": [
       "<div>\n",
       "<style scoped>\n",
       "    .dataframe tbody tr th:only-of-type {\n",
       "        vertical-align: middle;\n",
       "    }\n",
       "\n",
       "    .dataframe tbody tr th {\n",
       "        vertical-align: top;\n",
       "    }\n",
       "\n",
       "    .dataframe thead th {\n",
       "        text-align: right;\n",
       "    }\n",
       "</style>\n",
       "<table border=\"1\" class=\"dataframe\">\n",
       "  <thead>\n",
       "    <tr style=\"text-align: right;\">\n",
       "      <th></th>\n",
       "      <th>details</th>\n",
       "      <th>etat</th>\n",
       "      <th>adresse</th>\n",
       "      <th>prix</th>\n",
       "      <th>image_lien</th>\n",
       "    </tr>\n",
       "  </thead>\n",
       "  <tbody>\n",
       "    <tr>\n",
       "      <th>0</th>\n",
       "      <td>SPLIT ELACTRON 2.5CV INVERTER 18000BTU</td>\n",
       "      <td>Neuf</td>\n",
       "      <td>Plateau Dakar</td>\n",
       "      <td>269000</td>\n",
       "      <td>https://i.roamcdn.net/hz/ed/listing-thumb-543w...</td>\n",
       "    </tr>\n",
       "    <tr>\n",
       "      <th>1</th>\n",
       "      <td>SPLIT ELACTRON 2.5CV 18000BTU R1410</td>\n",
       "      <td>Neuf</td>\n",
       "      <td>Plateau Dakar</td>\n",
       "      <td>229000</td>\n",
       "      <td>https://i.roamcdn.net/hz/ed/listing-thumb-543w...</td>\n",
       "    </tr>\n",
       "    <tr>\n",
       "      <th>2</th>\n",
       "      <td>SPLIT ELACTRON 1.25CV INVERTER 9000BTU</td>\n",
       "      <td>Neuf</td>\n",
       "      <td>Plateau Dakar</td>\n",
       "      <td>179000</td>\n",
       "      <td>https://i.roamcdn.net/hz/ed/listing-thumb-543w...</td>\n",
       "    </tr>\n",
       "    <tr>\n",
       "      <th>3</th>\n",
       "      <td>SPLIT ELACTRON 1.25CV 9000BTU R410</td>\n",
       "      <td>Neuf</td>\n",
       "      <td>Plateau Dakar</td>\n",
       "      <td>149000</td>\n",
       "      <td>https://i.roamcdn.net/hz/ed/listing-thumb-543w...</td>\n",
       "    </tr>\n",
       "    <tr>\n",
       "      <th>4</th>\n",
       "      <td>Climatiseur armoire 24000btu ROCH</td>\n",
       "      <td>Neuf</td>\n",
       "      <td>Plateau Dakar</td>\n",
       "      <td>545000</td>\n",
       "      <td>https://i.roamcdn.net/hz/ed/listing-thumb-543w...</td>\n",
       "    </tr>\n",
       "  </tbody>\n",
       "</table>\n",
       "</div>"
      ],
      "text/plain": [
       "                                  details  etat        adresse    prix  \\\n",
       "0  SPLIT ELACTRON 2.5CV INVERTER 18000BTU  Neuf  Plateau Dakar  269000   \n",
       "1     SPLIT ELACTRON 2.5CV 18000BTU R1410  Neuf  Plateau Dakar  229000   \n",
       "2  SPLIT ELACTRON 1.25CV INVERTER 9000BTU  Neuf  Plateau Dakar  179000   \n",
       "3      SPLIT ELACTRON 1.25CV 9000BTU R410  Neuf  Plateau Dakar  149000   \n",
       "4       Climatiseur armoire 24000btu ROCH  Neuf  Plateau Dakar  545000   \n",
       "\n",
       "                                          image_lien  \n",
       "0  https://i.roamcdn.net/hz/ed/listing-thumb-543w...  \n",
       "1  https://i.roamcdn.net/hz/ed/listing-thumb-543w...  \n",
       "2  https://i.roamcdn.net/hz/ed/listing-thumb-543w...  \n",
       "3  https://i.roamcdn.net/hz/ed/listing-thumb-543w...  \n",
       "4  https://i.roamcdn.net/hz/ed/listing-thumb-543w...  "
      ]
     },
     "execution_count": 183,
     "metadata": {},
     "output_type": "execute_result"
    }
   ],
   "source": [
    "df.head()"
   ]
  },
  {
   "cell_type": "code",
   "execution_count": 184,
   "metadata": {},
   "outputs": [
    {
     "data": {
      "text/plain": [
       "0"
      ]
     },
     "execution_count": 184,
     "metadata": {},
     "output_type": "execute_result"
    }
   ],
   "source": [
    "df.duplicated().sum()"
   ]
  },
  {
   "cell_type": "code",
   "execution_count": 185,
   "metadata": {},
   "outputs": [],
   "source": [
    "df.drop_duplicates(inplace=True)"
   ]
  },
  {
   "cell_type": "code",
   "execution_count": 186,
   "metadata": {},
   "outputs": [
    {
     "data": {
      "text/plain": [
       "0"
      ]
     },
     "execution_count": 186,
     "metadata": {},
     "output_type": "execute_result"
    }
   ],
   "source": [
    "df.duplicated().sum()"
   ]
  },
  {
   "cell_type": "code",
   "execution_count": 187,
   "metadata": {},
   "outputs": [
    {
     "data": {
      "text/plain": [
       "details        0\n",
       "etat           1\n",
       "adresse        0\n",
       "prix          11\n",
       "image_lien     0\n",
       "dtype: int64"
      ]
     },
     "execution_count": 187,
     "metadata": {},
     "output_type": "execute_result"
    }
   ],
   "source": [
    "df.isna().sum()"
   ]
  },
  {
   "cell_type": "code",
   "execution_count": 188,
   "metadata": {},
   "outputs": [],
   "source": [
    "df.dropna(inplace=True)"
   ]
  },
  {
   "cell_type": "code",
   "execution_count": 189,
   "metadata": {},
   "outputs": [
    {
     "data": {
      "text/plain": [
       "details       0\n",
       "etat          0\n",
       "adresse       0\n",
       "prix          0\n",
       "image_lien    0\n",
       "dtype: int64"
      ]
     },
     "execution_count": 189,
     "metadata": {},
     "output_type": "execute_result"
    }
   ],
   "source": [
    "df.isna().sum()"
   ]
  },
  {
   "cell_type": "code",
   "execution_count": 190,
   "metadata": {},
   "outputs": [
    {
     "name": "stdout",
     "output_type": "stream",
     "text": [
      "<class 'pandas.core.frame.DataFrame'>\n",
      "Index: 186 entries, 0 to 197\n",
      "Data columns (total 5 columns):\n",
      " #   Column      Non-Null Count  Dtype \n",
      "---  ------      --------------  ----- \n",
      " 0   details     186 non-null    object\n",
      " 1   etat        186 non-null    object\n",
      " 2   adresse     186 non-null    object\n",
      " 3   prix        186 non-null    object\n",
      " 4   image_lien  186 non-null    object\n",
      "dtypes: object(5)\n",
      "memory usage: 8.7+ KB\n"
     ]
    }
   ],
   "source": [
    "df.info()"
   ]
  },
  {
   "cell_type": "code",
   "execution_count": 191,
   "metadata": {},
   "outputs": [],
   "source": [
    "df['prix'] = df['prix'].astype(int)"
   ]
  },
  {
   "cell_type": "code",
   "execution_count": 192,
   "metadata": {},
   "outputs": [
    {
     "data": {
      "text/plain": [
       "(186, 5)"
      ]
     },
     "execution_count": 192,
     "metadata": {},
     "output_type": "execute_result"
    }
   ],
   "source": [
    "df.shape"
   ]
  },
  {
   "cell_type": "code",
   "execution_count": 193,
   "metadata": {},
   "outputs": [
    {
     "name": "stdout",
     "output_type": "stream",
     "text": [
      "<class 'pandas.core.frame.DataFrame'>\n",
      "Index: 186 entries, 0 to 197\n",
      "Data columns (total 5 columns):\n",
      " #   Column      Non-Null Count  Dtype \n",
      "---  ------      --------------  ----- \n",
      " 0   details     186 non-null    object\n",
      " 1   etat        186 non-null    object\n",
      " 2   adresse     186 non-null    object\n",
      " 3   prix        186 non-null    int64 \n",
      " 4   image_lien  186 non-null    object\n",
      "dtypes: int64(1), object(4)\n",
      "memory usage: 8.7+ KB\n"
     ]
    }
   ],
   "source": [
    "df.info()"
   ]
  },
  {
   "cell_type": "code",
   "execution_count": 194,
   "metadata": {},
   "outputs": [],
   "source": [
    "df.to_csv(f'../../data/cleaned/{source}.csv', index=False)"
   ]
  }
 ],
 "metadata": {
  "kernelspec": {
   "display_name": ".venv",
   "language": "python",
   "name": "python3"
  },
  "language_info": {
   "codemirror_mode": {
    "name": "ipython",
    "version": 3
   },
   "file_extension": ".py",
   "mimetype": "text/x-python",
   "name": "python",
   "nbconvert_exporter": "python",
   "pygments_lexer": "ipython3",
   "version": "3.11.6"
  }
 },
 "nbformat": 4,
 "nbformat_minor": 2
}
