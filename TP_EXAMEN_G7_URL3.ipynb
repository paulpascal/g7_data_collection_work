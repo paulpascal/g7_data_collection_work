{
  "nbformat": 4,
  "nbformat_minor": 0,
  "metadata": {
    "colab": {
      "provenance": []
    },
    "kernelspec": {
      "name": "python3",
      "display_name": "Python 3"
    },
    "language_info": {
      "name": "python"
    }
  },
  "cells": [
    {
      "cell_type": "code",
      "execution_count": 1,
      "metadata": {
        "id": "DOW1GZKyRdkt"
      },
      "outputs": [],
      "source": [
        "# importer les packages\n",
        "import pandas as pd\n",
        "from requests import get\n",
        "from bs4 import BeautifulSoup as bs"
      ]
    },
    {
      "cell_type": "code",
      "source": [
        "url ='https://www.expat-dakar.com/cuisinieres-fours'\n",
        "resp = get(url)\n",
        "bsoup = bs(resp.text, 'html.parser')\n",
        "containers = bsoup.find_all('div', class_ ='listings-cards__list-item')"
      ],
      "metadata": {
        "id": "nZPLUVep_bpC"
      },
      "execution_count": 2,
      "outputs": []
    },
    {
      "cell_type": "code",
      "source": [
        "len(containers)"
      ],
      "metadata": {
        "colab": {
          "base_uri": "https://localhost:8080/"
        },
        "id": "W-kkQDcCKkQB",
        "outputId": "3e045294-f312-4928-b380-b2eb54551ac0"
      },
      "execution_count": 3,
      "outputs": [
        {
          "output_type": "execute_result",
          "data": {
            "text/plain": [
              "0"
            ]
          },
          "metadata": {},
          "execution_count": 3
        }
      ]
    },
    {
      "cell_type": "code",
      "source": [
        "container = containers[0]\n",
        "link = container.find('a', class_ ='listing-card__inner')['href']\n",
        "res_c = get(link)\n",
        "bsoup_c = bs(res_c.text, 'html.parser')"
      ],
      "metadata": {
        "id": "6MxprO0bXEue"
      },
      "execution_count": null,
      "outputs": []
    },
    {
      "cell_type": "code",
      "source": [
        "detailsPageContainer = bsoup_c.find('div', class_ ='listing-item__info')\n",
        "etat = detailsPageContainer.find('dd', class_='listing-item__properties__description').text.strip()\n",
        "prix = detailsPageContainer.find('span', class_ ='listing-card__price__value 1').text.strip().replace('\\u202f','').replace(' F Cfa', '')\n",
        "adress_location = detailsPageContainer.find('span', class_='listing-item__address-location').text.strip()\n",
        "region_location = detailsPageContainer.find('span', class_='listing-item__address-region').text.strip()\n",
        "adresse = adress_location+' '+region_location\n",
        "details = detailsPageContainer.find('h1', class_='listing-item__header').text.strip();\n",
        "images = bsoup_c.find('div', class_='gallery__image__inner')\n",
        "imageLink=images.find('img')['src']\n",
        "dico = {\n",
        "    'V1': details,\n",
        "    'V2':etat,\n",
        "    'V3': adresse,\n",
        "    'V4': prix,\n",
        "    'V5':imageLink,\n",
        "}\n",
        "dico"
      ],
      "metadata": {
        "id": "GS4oFnAJ-IjL"
      },
      "execution_count": null,
      "outputs": []
    },
    {
      "cell_type": "code",
      "source": [
        "#Scraper les données de la page\n",
        "data = []\n",
        "for container in containers:\n",
        "  link = container.find('a', class_ ='listing-card__inner')['href']\n",
        "  res_c = get(link)\n",
        "  bsoup_c = bs(res_c.text, 'html.parser')\n",
        "  try:\n",
        "    detailsPageContainer = bsoup_c.find('div', class_ ='listing-item__info')\n",
        "    etat = detailsPageContainer.find('dd', class_='listing-item__properties__description').text.strip()\n",
        "    prix = detailsPageContainer.find('span', class_ ='listing-card__price__value 1').text.strip().replace('\\u202f','').replace(' F Cfa', '')\n",
        "    adress_location = detailsPageContainer.find('span', class_='listing-item__address-location').text.strip()\n",
        "    region_location = detailsPageContainer.find('span', class_='listing-item__address-region').text.strip()\n",
        "    adresse = adress_location+' '+region_location\n",
        "    details = detailsPageContainer.find('h1', class_='listing-item__header').text.strip();\n",
        "    images = bsoup_c.find('div', class_='gallery__image__inner')\n",
        "    imageLink=images.find('img')['src']\n",
        "    dico = {\n",
        "        'details': details,\n",
        "        'etat':etat,\n",
        "        'adresse': adresse,\n",
        "        'prix': prix,\n",
        "        'image_lien':imageLink,\n",
        "    }\n",
        "    data.append(dico)\n",
        "  except :\n",
        "    pass\n",
        "\n",
        "DF = pd.DataFrame(data)"
      ],
      "metadata": {
        "id": "6lGO-AqUFhPX"
      },
      "execution_count": null,
      "outputs": []
    },
    {
      "cell_type": "code",
      "source": [
        "# afficher DF\n",
        "DF.head()"
      ],
      "metadata": {
        "id": "ofEtIw5-Ipb-"
      },
      "execution_count": null,
      "outputs": []
    },
    {
      "cell_type": "code",
      "source": [
        "# scraper sur plusieurs pages\n",
        "df = pd.DataFrame()\n",
        "for p in range(1,6):\n",
        "  url =f'https://www.expat-dakar.com/cuisinieres-fours?page={p}'\n",
        "  resp = get(url)\n",
        "  bsoup = bs(resp.text, 'html.parser')\n",
        "  containers = bsoup.find_all('div', class_ ='listings-cards__list-item')\n",
        "  data = []\n",
        "  for container in containers:\n",
        "    link = container.find('a', class_ ='listing-card__inner')['href']\n",
        "    res_c = get(link)\n",
        "    bsoup_c = bs(res_c.text, 'html.parser')\n",
        "    try:\n",
        "      detailsPageContainer = bsoup_c.find('div', class_ ='listing-item__info')\n",
        "      etat = detailsPageContainer.find('dd', class_='listing-item__properties__description').text.strip()\n",
        "      prix = detailsPageContainer.find('span', class_ ='listing-card__price__value 1').text.strip().replace('\\u202f','').replace(' F Cfa', '')\n",
        "      adress_location = detailsPageContainer.find('span', class_='listing-item__address-location').text.strip()\n",
        "      region_location = detailsPageContainer.find('span', class_='listing-item__address-region').text.strip()\n",
        "      adresse = adress_location+' '+region_location\n",
        "      details = detailsPageContainer.find('h1', class_='listing-item__header').text.strip();\n",
        "      images = bsoup_c.find('div', class_='gallery__image__inner')\n",
        "      imageLink=images.find('img')['src']\n",
        "      dico = {\n",
        "          'details': details,\n",
        "          'etat':etat,\n",
        "          'adresse': adresse,\n",
        "          'prix': prix,\n",
        "          'image_lien':imageLink,\n",
        "      }\n",
        "      data.append(dico)\n",
        "    except :\n",
        "     pass\n",
        "\n",
        "  DF = pd.DataFrame(data)\n",
        "  df = pd.concat([df, DF],axis = 0).reset_index(drop = True)"
      ],
      "metadata": {
        "id": "ME_x8XjaIvTQ"
      },
      "execution_count": null,
      "outputs": []
    },
    {
      "cell_type": "code",
      "source": [
        "# Afficher df\n",
        "df.head(10)"
      ],
      "metadata": {
        "id": "Z2w1CMM_uorB"
      },
      "execution_count": null,
      "outputs": []
    },
    {
      "cell_type": "markdown",
      "source": [],
      "metadata": {
        "id": "-aIgk-YV6atA"
      }
    },
    {
      "cell_type": "markdown",
      "source": [],
      "metadata": {
        "id": "kXukn8G9I_Rh"
      }
    }
  ]
}